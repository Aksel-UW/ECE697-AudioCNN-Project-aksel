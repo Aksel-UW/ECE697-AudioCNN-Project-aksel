{
  "cells": [
    {
      "cell_type": "code",
      "execution_count": null,
      "metadata": {
        "id": "WtKr2oJPvFfh"
      },
      "outputs": [],
      "source": [
        "TRIAL_NUMBER = 1"
      ]
    },
    {
      "cell_type": "code",
      "execution_count": null,
      "metadata": {
        "colab": {
          "base_uri": "https://localhost:8080/"
        },
        "id": "K0vv8UQfiuSr",
        "outputId": "32fdbc42-c96b-4c3c-81a8-9d5b475b9c6b"
      },
      "outputs": [
        {
          "name": "stdout",
          "output_type": "stream",
          "text": [
            "Looking in indexes: https://pypi.org/simple, https://us-python.pkg.dev/colab-wheels/public/simple/\n",
            "Requirement already satisfied: torchinfo in /usr/local/lib/python3.7/dist-packages (1.7.0)\n"
          ]
        }
      ],
      "source": [
        "!pip install torchinfo"
      ]
    },
    {
      "cell_type": "code",
      "execution_count": null,
      "metadata": {
        "id": "AJXw9lkRjWJx"
      },
      "outputs": [],
      "source": [
        "#### https://www.youtube.com/watch?v=SQ1iIKs190Q&list=PL-wATfeyAMNoirN4idjev6aRu8ISZYVWm&index=8\n",
        "import torch\n",
        "import torchaudio\n",
        "import torchvision\n",
        "from torch import nn\n",
        "from torchinfo import summary"
      ]
    },
    {
      "cell_type": "code",
      "execution_count": null,
      "metadata": {
        "colab": {
          "base_uri": "https://localhost:8080/"
        },
        "id": "hpe1CRCrjXSo",
        "outputId": "3895ddb4-2091-4e4d-828c-c88735c3d810"
      },
      "outputs": [
        {
          "name": "stdout",
          "output_type": "stream",
          "text": [
            "Mounted at /content/drive\n"
          ]
        }
      ],
      "source": [
        "from google.colab import drive\n",
        "drive.mount('/content/drive', force_remount=True)"
      ]
    },
    {
      "cell_type": "code",
      "execution_count": null,
      "metadata": {
        "id": "RdzGT7bijYhP"
      },
      "outputs": [],
      "source": [
        "!tar -xf /content/drive/MyDrive/UrbanSound8K.tar.gz"
      ]
    },
    {
      "cell_type": "code",
      "execution_count": null,
      "metadata": {
        "colab": {
          "base_uri": "https://localhost:8080/"
        },
        "id": "mQl4QUhIjlkP",
        "outputId": "0e8f088f-4579-4b55-cbf2-1f84f55d532b"
      },
      "outputs": [
        {
          "name": "stdout",
          "output_type": "stream",
          "text": [
            "==========================================================================================\n",
            "Layer (type:depth-idx)                   Output Shape              Param #\n",
            "==========================================================================================\n",
            "CNNNetwork                               [1, 10]                   --\n",
            "├─Sequential: 1-1                        [1, 16, 33, 23]           --\n",
            "│    └─Conv2d: 2-1                       [1, 16, 66, 46]           160\n",
            "│    └─LeakyReLU: 2-2                    [1, 16, 66, 46]           --\n",
            "│    └─MaxPool2d: 2-3                    [1, 16, 33, 23]           --\n",
            "├─Sequential: 1-2                        [1, 32, 17, 12]           --\n",
            "│    └─Conv2d: 2-4                       [1, 32, 35, 25]           4,640\n",
            "│    └─LeakyReLU: 2-5                    [1, 32, 35, 25]           --\n",
            "│    └─MaxPool2d: 2-6                    [1, 32, 17, 12]           --\n",
            "├─Sequential: 1-3                        [1, 32, 9, 7]             --\n",
            "│    └─Conv2d: 2-7                       [1, 32, 19, 14]           9,248\n",
            "│    └─LeakyReLU: 2-8                    [1, 32, 19, 14]           --\n",
            "│    └─MaxPool2d: 2-9                    [1, 32, 9, 7]             --\n",
            "├─Sequential: 1-4                        [1, 64, 5, 4]             --\n",
            "│    └─Conv2d: 2-10                      [1, 64, 11, 9]            18,496\n",
            "│    └─LeakyReLU: 2-11                   [1, 64, 11, 9]            --\n",
            "│    └─MaxPool2d: 2-12                   [1, 64, 5, 4]             --\n",
            "├─Sequential: 1-5                        [1, 64, 3, 3]             --\n",
            "│    └─Conv2d: 2-13                      [1, 64, 7, 6]             36,928\n",
            "│    └─LeakyReLU: 2-14                   [1, 64, 7, 6]             --\n",
            "│    └─MaxPool2d: 2-15                   [1, 64, 3, 3]             --\n",
            "├─Flatten: 1-6                           [1, 576]                  --\n",
            "├─Linear: 1-7                            [1, 32]                   18,464\n",
            "├─Linear: 1-8                            [1, 10]                   330\n",
            "├─Softmax: 1-9                           [1, 10]                   --\n",
            "==========================================================================================\n",
            "Total params: 88,266\n",
            "Trainable params: 88,266\n",
            "Non-trainable params: 0\n",
            "Total mult-adds (M): 10.41\n",
            "==========================================================================================\n",
            "Input size (MB): 0.01\n",
            "Forward/backward pass size (MB): 0.75\n",
            "Params size (MB): 0.35\n",
            "Estimated Total Size (MB): 1.12\n",
            "==========================================================================================\n"
          ]
        }
      ],
      "source": [
        "class CNNNetwork(nn.Module):\n",
        "    def __init__(self):\n",
        "        super().__init__()\n",
        "        \n",
        "        # 5 conv blocks(conv leakyRelu maxpool) / flatten / linear / softmax\n",
        "        self.conv1 = nn.Sequential(\n",
        "            nn.Conv2d(\n",
        "                in_channels = 1,\n",
        "                out_channels = 16,\n",
        "                kernel_size = 3,\n",
        "                stride = 1,\n",
        "                padding = 2\n",
        "            ),\n",
        "            nn.LeakyReLU(),\n",
        "            nn.MaxPool2d(kernel_size=2)     \n",
        "        )\n",
        "        self.conv2 = nn.Sequential(\n",
        "            nn.Conv2d(\n",
        "                in_channels = 16,\n",
        "                out_channels = 32,\n",
        "                kernel_size = 3,\n",
        "                stride = 1,\n",
        "                padding = 2\n",
        "            ),\n",
        "            nn.LeakyReLU(),\n",
        "            nn.MaxPool2d(kernel_size=2)     \n",
        "        )\n",
        "        self.conv3 = nn.Sequential(\n",
        "            nn.Conv2d(\n",
        "                in_channels = 32,\n",
        "                out_channels = 32,\n",
        "                kernel_size = 3,\n",
        "                stride = 1,\n",
        "                padding = 2\n",
        "            ),\n",
        "            nn.LeakyReLU(),\n",
        "            nn.MaxPool2d(kernel_size=2)     \n",
        "        )\n",
        "        self.conv4 = nn.Sequential(\n",
        "            nn.Conv2d(\n",
        "                in_channels = 32,\n",
        "                out_channels = 64,\n",
        "                kernel_size = 3,\n",
        "                stride = 1,\n",
        "                padding = 2\n",
        "            ),\n",
        "            nn.LeakyReLU(),\n",
        "            nn.MaxPool2d(kernel_size=2)     \n",
        "        )\n",
        "        self.conv5 = nn.Sequential(\n",
        "            nn.Conv2d(\n",
        "                in_channels = 64,\n",
        "                out_channels = 64,\n",
        "                kernel_size = 3,\n",
        "                stride = 1,\n",
        "                padding = 2\n",
        "            ),\n",
        "            nn.LeakyReLU(),\n",
        "            nn.MaxPool2d(kernel_size=2)     \n",
        "        )\n",
        "        self.flatten = nn.Flatten()\n",
        "        self.fc1 = nn.Linear(576, 32)\n",
        "        self.fc2 = nn.Linear(32, 10)\n",
        "        self.softmax = nn.Softmax(dim = 1)\n",
        "        \n",
        "    def forward(self, input_data):\n",
        "        x = self.conv1(input_data)\n",
        "        x = self.conv2(x)\n",
        "        x = self.conv3(x)\n",
        "        x = self.conv4(x)\n",
        "        x = self.conv5(x)\n",
        "        x = self.flatten(x)\n",
        "        x = self.fc1(x)\n",
        "        logits = self.fc2(x)\n",
        "        predictions = self.softmax(logits)\n",
        "        return predictions\n",
        "        \n",
        "        \n",
        "if __name__ == \"__main__\":\n",
        "    cnn = CNNNetwork()\n",
        "    print(summary(cnn, (1,1, 64, 44)))"
      ]
    },
    {
      "cell_type": "code",
      "execution_count": null,
      "metadata": {
        "colab": {
          "base_uri": "https://localhost:8080/"
        },
        "id": "MyIgjCImjyZ_",
        "outputId": "c587b576-43a7-4795-f88b-14fc5d9e6179"
      },
      "outputs": [
        {
          "name": "stdout",
          "output_type": "stream",
          "text": [
            "Using device cuda\n",
            "There are 8732 samples in the dataset.\n",
            "sox_io\n"
          ]
        }
      ],
      "source": [
        "import os\n",
        "\n",
        "import torch\n",
        "from torch.utils.data import Dataset\n",
        "import pandas as pd\n",
        "import soundfile\n",
        "import torchaudio\n",
        "\n",
        "\n",
        "class UrbanSoundDataset(Dataset):\n",
        "\n",
        "    def __init__(self,\n",
        "                 annotations_file,\n",
        "                 audio_dir,\n",
        "                 transformation,\n",
        "                 target_sample_rate,\n",
        "                 num_samples,\n",
        "                 device):\n",
        "        self.annotations = pd.read_csv(annotations_file)\n",
        "        self.audio_dir = audio_dir\n",
        "        self.device = device\n",
        "        self.transformation = transformation.to(self.device)\n",
        "        self.target_sample_rate = target_sample_rate\n",
        "        self.num_samples = num_samples\n",
        "\n",
        "    def __len__(self):\n",
        "        return len(self.annotations)\n",
        "\n",
        "    def __getitem__(self, index):\n",
        "        audio_sample_path = self._get_audio_sample_path(index)\n",
        "        label = self._get_audio_sample_label(index)\n",
        "        signal, sr = torchaudio.load(audio_sample_path)\n",
        "        signal = signal.to(self.device)\n",
        "        signal = self._resample_if_necessary(signal, sr)\n",
        "        signal = self._mix_down_if_necessary(signal)\n",
        "        signal = self._cut_if_necessary(signal)\n",
        "        signal = self._right_pad_if_necessary(signal)\n",
        "        signal = self.transformation(signal)\n",
        "        signal = (signal - signal.mean())/signal.std() # normalize\n",
        "        #signal = signal/signal.max() # scale to 1 max\n",
        "        return signal, label\n",
        "\n",
        "    def _cut_if_necessary(self, signal):\n",
        "        if signal.shape[1] > self.num_samples:\n",
        "            signal = signal[:, :self.num_samples]\n",
        "        return signal\n",
        "\n",
        "    def _right_pad_if_necessary(self, signal):\n",
        "        length_signal = signal.shape[1]\n",
        "        if length_signal < self.num_samples:\n",
        "            num_missing_samples = self.num_samples - length_signal\n",
        "            last_dim_padding = (0, num_missing_samples)\n",
        "            signal = torch.nn.functional.pad(signal, last_dim_padding)\n",
        "        return signal\n",
        "\n",
        "    def _resample_if_necessary(self, signal, sr):\n",
        "        if sr != self.target_sample_rate:\n",
        "\n",
        "            resampler = torchaudio.transforms.Resample(sr, self.target_sample_rate).to(device)\n",
        "\n",
        "            signal = resampler(signal)\n",
        "        return signal\n",
        "\n",
        "    def _mix_down_if_necessary(self, signal):\n",
        "        if signal.shape[0] > 1:\n",
        "            signal = torch.mean(signal, dim=0, keepdim=True)\n",
        "        return signal\n",
        "\n",
        "    def _get_audio_sample_path(self, index):\n",
        "        fold = f\"fold{self.annotations.iloc[index, 5]}\"\n",
        "        path = os.path.join(self.audio_dir, fold, self.annotations.iloc[\n",
        "            index, 0])\n",
        "        return path\n",
        "\n",
        "    def _get_audio_sample_label(self, index):\n",
        "        return self.annotations.iloc[index, 6]\n",
        "\n",
        "\n",
        "ANNOTATIONS_FILE = \"/content/UrbanSound8K/metadata/UrbanSound8K.csv\"\n",
        "AUDIO_DIR = \"/content/UrbanSound8K/audio\"\n",
        "SAMPLE_RATE = 22050\n",
        "NUM_SAMPLES = 22050\n",
        "\n",
        "if torch.cuda.is_available():\n",
        "    device = \"cuda\"\n",
        "else:\n",
        "    device = \"cpu\"\n",
        "print(f\"Using device {device}\")\n",
        "\n",
        "mel_spectrogram = torchaudio.transforms.MelSpectrogram(\n",
        "    sample_rate=SAMPLE_RATE,\n",
        "    n_fft=1024,\n",
        "    hop_length=512,\n",
        "    n_mels=64\n",
        ")\n",
        "\n",
        "usd = UrbanSoundDataset(ANNOTATIONS_FILE,\n",
        "                        AUDIO_DIR,\n",
        "                        mel_spectrogram,\n",
        "                        SAMPLE_RATE,\n",
        "                        NUM_SAMPLES,\n",
        "                        device)\n",
        "print(f\"There are {len(usd)} samples in the dataset.\")\n",
        "print(str(torchaudio.get_audio_backend()))\n",
        "signal, label = usd[0]\n"
      ]
    },
    {
      "cell_type": "code",
      "execution_count": null,
      "metadata": {
        "id": "8y70XNxGj_Aw"
      },
      "outputs": [],
      "source": [
        "import librosa\n",
        "import matplotlib.pyplot as plt\n",
        "def plot_spectrogram(specgram, title=None, ylabel=\"freq_bin\"):\n",
        "    fig, axs = plt.subplots(1, 1)\n",
        "    axs.set_title(title or \"Spectrogram (db)\")\n",
        "    axs.set_ylabel(ylabel)\n",
        "    axs.set_xlabel(\"frame\")\n",
        "    im = axs.imshow(librosa.power_to_db(specgram), origin=\"lower\", aspect=\"auto\")\n",
        "    fig.colorbar(im, ax=axs)\n",
        "    plt.show(block=False)"
      ]
    },
    {
      "cell_type": "code",
      "execution_count": null,
      "metadata": {
        "colab": {
          "base_uri": "https://localhost:8080/"
        },
        "id": "91OHW8bDwbUm",
        "outputId": "9ec58420-382f-4426-8220-a5533326f3c9"
      },
      "outputs": [
        {
          "data": {
            "text/plain": [
              "<torch._C.Generator at 0x7fb1f7f3a550>"
            ]
          },
          "execution_count": 50,
          "metadata": {},
          "output_type": "execute_result"
        }
      ],
      "source": [
        "torch.manual_seed(TRIAL_NUMBER)"
      ]
    },
    {
      "cell_type": "code",
      "execution_count": null,
      "metadata": {
        "id": "0lYBCk5UkE93"
      },
      "outputs": [],
      "source": [
        "train_set, test_set = torch.utils.data.random_split(usd, [7732, 1000])"
      ]
    },
    {
      "cell_type": "code",
      "execution_count": null,
      "metadata": {
        "colab": {
          "base_uri": "https://localhost:8080/",
          "height": 295
        },
        "id": "9J6dt5RGkEVA",
        "outputId": "42ca06e4-87a8-424e-fc85-93b3f11378d5"
      },
      "outputs": [
        {
          "data": {
            "image/png": "[encoded data removed]",
            "text/plain": [
              "<Figure size 432x288 with 2 Axes>"
            ]
          },
          "metadata": {},
          "output_type": "display_data"
        }
      ],
      "source": [
        "plot_spectrogram(train_set[2222][0].to(\"cpu\")[0], title=\"torchaudio\")"
      ]
    },
    {
      "cell_type": "code",
      "execution_count": null,
      "metadata": {
        "colab": {
          "base_uri": "https://localhost:8080/"
        },
        "id": "ofEmbo1Rw3oz",
        "outputId": "4d6981b0-6773-48d0-8ecb-66bc12b2a5dd"
      },
      "outputs": [
        {
          "name": "stdout",
          "output_type": "stream",
          "text": [
            "feedforwardnet_FINAL_trial_1.pth\n"
          ]
        }
      ],
      "source": [
        "model_path = \"feedforwardnet_FINAL_trial_%i.pth\"%TRIAL_NUMBER\n",
        "print(model_path)"
      ]
    },
    {
      "cell_type": "code",
      "execution_count": null,
      "metadata": {
        "colab": {
          "background_save": true,
          "base_uri": "https://localhost:8080/"
        },
        "id": "hZkGBD6ekGng",
        "outputId": "68b58d58-895d-4c2a-beb5-921026685720"
      },
      "outputs": [
        {
          "name": "stdout",
          "output_type": "stream",
          "text": [
            "Using cuda\n",
            "CNNNetwork(\n",
            "  (conv1): Sequential(\n",
            "    (0): Conv2d(1, 16, kernel_size=(3, 3), stride=(1, 1), padding=(2, 2))\n",
            "    (1): LeakyReLU(negative_slope=0.01)\n",
            "    (2): MaxPool2d(kernel_size=2, stride=2, padding=0, dilation=1, ceil_mode=False)\n",
            "  )\n",
            "  (conv2): Sequential(\n",
            "    (0): Conv2d(16, 32, kernel_size=(3, 3), stride=(1, 1), padding=(2, 2))\n",
            "    (1): LeakyReLU(negative_slope=0.01)\n",
            "    (2): MaxPool2d(kernel_size=2, stride=2, padding=0, dilation=1, ceil_mode=False)\n",
            "  )\n",
            "  (conv3): Sequential(\n",
            "    (0): Conv2d(32, 32, kernel_size=(3, 3), stride=(1, 1), padding=(2, 2))\n",
            "    (1): LeakyReLU(negative_slope=0.01)\n",
            "    (2): MaxPool2d(kernel_size=2, stride=2, padding=0, dilation=1, ceil_mode=False)\n",
            "  )\n",
            "  (conv4): Sequential(\n",
            "    (0): Conv2d(32, 64, kernel_size=(3, 3), stride=(1, 1), padding=(2, 2))\n",
            "    (1): LeakyReLU(negative_slope=0.01)\n",
            "    (2): MaxPool2d(kernel_size=2, stride=2, padding=0, dilation=1, ceil_mode=False)\n",
            "  )\n",
            "  (conv5): Sequential(\n",
            "    (0): Conv2d(64, 64, kernel_size=(3, 3), stride=(1, 1), padding=(2, 2))\n",
            "    (1): LeakyReLU(negative_slope=0.01)\n",
            "    (2): MaxPool2d(kernel_size=2, stride=2, padding=0, dilation=1, ceil_mode=False)\n",
            "  )\n",
            "  (flatten): Flatten(start_dim=1, end_dim=-1)\n",
            "  (fc1): Linear(in_features=576, out_features=32, bias=True)\n",
            "  (fc2): Linear(in_features=32, out_features=10, bias=True)\n",
            "  (softmax): Softmax(dim=1)\n",
            ")\n",
            "Epoch 1\n",
            "loss: 2.1817662715911865\n",
            "---------------------------\n",
            "Epoch 2\n",
            "loss: 2.1076714992523193\n",
            "---------------------------\n",
            "Epoch 3\n",
            "loss: 2.0652854442596436\n",
            "---------------------------\n",
            "Epoch 4\n",
            "loss: 2.0390007495880127\n",
            "---------------------------\n",
            "Epoch 5\n",
            "loss: 1.9820759296417236\n",
            "---------------------------\n",
            "Epoch 6\n",
            "loss: 2.0086214542388916\n",
            "---------------------------\n",
            "Epoch 7\n",
            "loss: 1.987073302268982\n",
            "---------------------------\n",
            "Epoch 8\n",
            "loss: 1.9698437452316284\n",
            "---------------------------\n",
            "Epoch 9\n",
            "loss: 1.9603360891342163\n",
            "---------------------------\n",
            "Epoch 10\n",
            "loss: 1.9492722749710083\n",
            "---------------------------\n",
            "Epoch 11\n",
            "loss: 1.894486665725708\n",
            "---------------------------\n",
            "Epoch 12\n",
            "loss: 1.876214861869812\n",
            "---------------------------\n",
            "Epoch 13\n",
            "loss: 1.8553390502929688\n",
            "---------------------------\n",
            "Epoch 14\n",
            "loss: 1.8541327714920044\n",
            "---------------------------\n",
            "Epoch 15\n",
            "loss: 1.8752827644348145\n",
            "---------------------------\n",
            "Epoch 16\n",
            "loss: 1.8483854532241821\n",
            "---------------------------\n",
            "Epoch 17\n",
            "loss: 1.8893225193023682\n",
            "---------------------------\n",
            "Epoch 18\n",
            "loss: 1.8556301593780518\n",
            "---------------------------\n",
            "Epoch 19\n",
            "loss: 1.8053361177444458\n",
            "---------------------------\n",
            "Epoch 20\n",
            "loss: 1.828238844871521\n",
            "---------------------------\n",
            "Epoch 21\n",
            "loss: 1.7964311838150024\n",
            "---------------------------\n",
            "Epoch 22\n",
            "loss: 1.785759687423706\n",
            "---------------------------\n",
            "Epoch 23\n",
            "loss: 1.8138864040374756\n",
            "---------------------------\n",
            "Epoch 24\n",
            "loss: 1.7729097604751587\n",
            "---------------------------\n",
            "Epoch 25\n",
            "loss: 1.7212175130844116\n",
            "---------------------------\n",
            "Epoch 26\n",
            "loss: 1.7400033473968506\n",
            "---------------------------\n",
            "Epoch 27\n",
            "loss: 1.7341172695159912\n",
            "---------------------------\n",
            "Epoch 28\n",
            "loss: 1.7891926765441895\n",
            "---------------------------\n",
            "Epoch 29\n",
            "loss: 1.7945501804351807\n",
            "---------------------------\n",
            "Epoch 30\n",
            "loss: 1.7575736045837402\n",
            "---------------------------\n",
            "Epoch 31\n",
            "loss: 1.7139720916748047\n",
            "---------------------------\n",
            "Epoch 32\n",
            "loss: 1.6799653768539429\n",
            "---------------------------\n",
            "Epoch 33\n",
            "loss: 1.6914308071136475\n",
            "---------------------------\n",
            "Epoch 34\n",
            "loss: 1.6868574619293213\n",
            "---------------------------\n",
            "Epoch 35\n",
            "loss: 1.6662230491638184\n",
            "---------------------------\n",
            "Epoch 36\n",
            "loss: 1.6593457460403442\n",
            "---------------------------\n",
            "Epoch 37\n",
            "loss: 1.6643702983856201\n",
            "---------------------------\n",
            "Epoch 38\n",
            "loss: 1.6546962261199951\n",
            "---------------------------\n",
            "Epoch 39\n",
            "loss: 1.6747033596038818\n",
            "---------------------------\n",
            "Epoch 40\n",
            "loss: 1.7022076845169067\n",
            "---------------------------\n",
            "Epoch 41\n",
            "loss: 1.6694104671478271\n",
            "---------------------------\n",
            "Epoch 42\n",
            "loss: 1.6843044757843018\n",
            "---------------------------\n",
            "Epoch 43\n",
            "loss: 1.6486756801605225\n",
            "---------------------------\n",
            "Epoch 44\n",
            "loss: 1.720163106918335\n",
            "---------------------------\n",
            "Epoch 45\n",
            "loss: 1.6346278190612793\n",
            "---------------------------\n",
            "Epoch 46\n",
            "loss: 1.623839020729065\n",
            "---------------------------\n",
            "Epoch 47\n",
            "loss: 1.7258379459381104\n",
            "---------------------------\n",
            "Epoch 48\n",
            "loss: 1.6367284059524536\n",
            "---------------------------\n",
            "Epoch 49\n",
            "loss: 1.6041674613952637\n",
            "---------------------------\n",
            "Epoch 50\n",
            "loss: 1.717286467552185\n",
            "---------------------------\n",
            "Epoch 51\n",
            "loss: 1.6494215726852417\n",
            "---------------------------\n",
            "Epoch 52\n",
            "loss: 1.637008786201477\n",
            "---------------------------\n",
            "Epoch 53\n",
            "loss: 1.6226969957351685\n",
            "---------------------------\n",
            "Epoch 54\n",
            "loss: 1.6029021739959717\n",
            "---------------------------\n",
            "Epoch 55\n",
            "loss: 1.6026126146316528\n",
            "---------------------------\n",
            "Epoch 56\n",
            "loss: 1.6044045686721802\n",
            "---------------------------\n",
            "Epoch 57\n",
            "loss: 1.6383761167526245\n",
            "---------------------------\n",
            "Epoch 58\n",
            "loss: 1.5918681621551514\n",
            "---------------------------\n",
            "Epoch 59\n",
            "loss: 1.5970604419708252\n",
            "---------------------------\n",
            "Epoch 60\n",
            "loss: 1.581498622894287\n",
            "---------------------------\n",
            "Epoch 61\n",
            "loss: 1.601897954940796\n",
            "---------------------------\n",
            "Epoch 62\n",
            "loss: 1.634103536605835\n",
            "---------------------------\n",
            "Epoch 63\n",
            "loss: 1.6065540313720703\n",
            "---------------------------\n",
            "Epoch 64\n",
            "loss: 1.6221295595169067\n",
            "---------------------------\n",
            "Epoch 65\n",
            "loss: 1.6045079231262207\n",
            "---------------------------\n",
            "Epoch 66\n",
            "loss: 1.5933083295822144\n",
            "---------------------------\n",
            "Epoch 67\n",
            "loss: 1.5884413719177246\n",
            "---------------------------\n",
            "Epoch 68\n",
            "loss: 1.576468825340271\n",
            "---------------------------\n",
            "Epoch 69\n",
            "loss: 1.5786951780319214\n",
            "---------------------------\n",
            "Epoch 70\n",
            "loss: 1.5937578678131104\n",
            "---------------------------\n",
            "Epoch 71\n",
            "loss: 1.5933291912078857\n",
            "---------------------------\n",
            "Epoch 72\n",
            "loss: 1.5772247314453125\n",
            "---------------------------\n",
            "Epoch 73\n",
            "loss: 1.579670786857605\n",
            "---------------------------\n",
            "Epoch 74\n",
            "loss: 1.5841501951217651\n",
            "---------------------------\n",
            "Epoch 75\n",
            "loss: 1.5763996839523315\n",
            "---------------------------\n",
            "Epoch 76\n",
            "loss: 1.586443543434143\n",
            "---------------------------\n",
            "Epoch 77\n",
            "loss: 1.5840104818344116\n",
            "---------------------------\n",
            "Epoch 78\n",
            "loss: 1.5954277515411377\n",
            "---------------------------\n",
            "Epoch 79\n",
            "loss: 1.5988404750823975\n",
            "---------------------------\n",
            "Epoch 80\n",
            "loss: 1.6022855043411255\n",
            "---------------------------\n",
            "Epoch 81\n",
            "loss: 1.57716965675354\n",
            "---------------------------\n",
            "Epoch 82\n",
            "loss: 1.5812208652496338\n",
            "---------------------------\n",
            "Epoch 83\n",
            "loss: 1.6145572662353516\n",
            "---------------------------\n",
            "Epoch 84\n",
            "loss: 1.60136878490448\n",
            "---------------------------\n",
            "Epoch 85\n",
            "loss: 1.5847337245941162\n",
            "---------------------------\n",
            "Epoch 86\n",
            "loss: 1.5762059688568115\n",
            "---------------------------\n",
            "Epoch 87\n",
            "loss: 1.5761460065841675\n",
            "---------------------------\n",
            "Epoch 88\n",
            "loss: 1.6059335470199585\n",
            "---------------------------\n",
            "Epoch 89\n",
            "loss: 1.5793737173080444\n",
            "---------------------------\n",
            "Epoch 90\n",
            "loss: 1.5764790773391724\n",
            "---------------------------\n",
            "Epoch 91\n",
            "loss: 1.6272233724594116\n",
            "---------------------------\n",
            "Epoch 92\n",
            "loss: 1.5869433879852295\n",
            "---------------------------\n",
            "Epoch 93\n",
            "loss: 1.589667797088623\n",
            "---------------------------\n",
            "Epoch 94\n",
            "loss: 1.5818320512771606\n",
            "---------------------------\n",
            "Epoch 95\n",
            "loss: 1.5783162117004395\n",
            "---------------------------\n",
            "Epoch 96\n",
            "loss: 1.5867571830749512\n",
            "---------------------------\n",
            "Epoch 97\n",
            "loss: 1.5821325778961182\n",
            "---------------------------\n",
            "Epoch 98\n",
            "loss: 1.576747179031372\n",
            "---------------------------\n",
            "Epoch 99\n",
            "loss: 1.5761127471923828\n",
            "---------------------------\n",
            "Epoch 100\n",
            "loss: 1.5757942199707031\n",
            "---------------------------\n",
            "Finished training\n",
            "Trained feed forward net saved at feedforwardnet_FINAL_trial_1.pth\n"
          ]
        }
      ],
      "source": [
        "import torch\n",
        "import torchaudio\n",
        "from torch import nn\n",
        "from torch.utils.data import DataLoader\n",
        "\n",
        "#from urbansounddataset import UrbanSoundDataset\n",
        "#from cnn import CNNNetwork\n",
        "\n",
        "\n",
        "BATCH_SIZE = 64\n",
        "EPOCHS = 100\n",
        "LEARNING_RATE = 0.001\n",
        "\n",
        "ANNOTATIONS_FILE = \"/content/UrbanSound8K/metadata/UrbanSound8K.csv\"\n",
        "AUDIO_DIR = \"/content/UrbanSound8K/audio\"\n",
        "SAMPLE_RATE = 22050\n",
        "NUM_SAMPLES = 22050\n",
        "\n",
        "loss_list = []\n",
        "\n",
        "\n",
        "def create_data_loader(train_data, batch_size):\n",
        "    train_dataloader = DataLoader(train_data, batch_size=batch_size)\n",
        "    return train_dataloader\n",
        "\n",
        "\n",
        "def train_single_epoch(model, data_loader, loss_fn, optimiser, device):\n",
        "    for input, target in data_loader:\n",
        "        input, target = input.to(device), target.to(device)\n",
        "\n",
        "        # calculate loss\n",
        "        prediction = model(input)\n",
        "        loss = loss_fn(prediction, target)\n",
        "\n",
        "        # backpropagate error and update weights\n",
        "        optimiser.zero_grad()\n",
        "        loss.backward()\n",
        "        optimiser.step()\n",
        "\n",
        "    print(f\"loss: {loss.item()}\")\n",
        "    loss_list.append(loss.item())\n",
        "\n",
        "\n",
        "def train(model, data_loader, loss_fn, optimiser, device, epochs):\n",
        "    for i in range(epochs):\n",
        "        print(f\"Epoch {i+1}\")\n",
        "        train_single_epoch(model, data_loader, loss_fn, optimiser, device)\n",
        "        print(\"---------------------------\")\n",
        "    print(\"Finished training\")\n",
        "\n",
        "\n",
        "if __name__ == \"__main__\":\n",
        "\n",
        "    if torch.cuda.is_available():\n",
        "        device = \"cuda\"\n",
        "    else:\n",
        "        device = \"cpu\"\n",
        "    print(f\"Using {device}\")\n",
        "\n",
        "    # instantiating our dataset object and create data loader\n",
        "    mel_spectrogram = torchaudio.transforms.MelSpectrogram(\n",
        "        sample_rate=SAMPLE_RATE,\n",
        "        n_fft=1024,\n",
        "        hop_length=512,\n",
        "        n_mels=64\n",
        "    )\n",
        "\n",
        "    train_dataloader = create_data_loader(train_set, BATCH_SIZE)\n",
        "\n",
        "    # construct model and assign it to device\n",
        "    cnn = CNNNetwork().to(device)\n",
        "    print(cnn)\n",
        "\n",
        "    # initialise loss funtion + optimiser\n",
        "    loss_fn = nn.CrossEntropyLoss()\n",
        "    optimiser = torch.optim.Adam(cnn.parameters(),\n",
        "                                 lr=LEARNING_RATE,\n",
        "                                 weight_decay=5e-4)\n",
        "\n",
        "    # train model\n",
        "    train(cnn, train_dataloader, loss_fn, optimiser, device, EPOCHS)\n",
        "\n",
        "    # save model\n",
        "    torch.save(cnn.state_dict(), model_path)\n",
        "    print(\"Trained feed forward net saved at %s\" %model_path)\n"
      ]
    },
    {
      "cell_type": "code",
      "execution_count": null,
      "metadata": {
        "colab": {
          "background_save": true
        },
        "id": "XyZI2KlGkSPI",
        "outputId": "e62a2777-2629-4b62-9e43-ce2a09449318"
      },
      "outputs": [
        {
          "name": "stdout",
          "output_type": "stream",
          "text": [
            "Predicted: 'air_conditioner', expected: 'air_conditioner'\n"
          ]
        }
      ],
      "source": [
        "import torch\n",
        "import torchaudio\n",
        "\n",
        "#from cnn import CNNNetwork\n",
        "#from urbansounddataset import UrbanSoundDataset\n",
        "#from train import AUDIO_DIR, ANNOTATIONS_FILE, SAMPLE_RATE, NUM_SAMPLES\n",
        "\n",
        "\n",
        "class_mapping = [\n",
        "    \"air_conditioner\",\n",
        "    \"car_horn\",\n",
        "    \"children_playing\",\n",
        "    \"dog_bark\",\n",
        "    \"drilling\",\n",
        "    \"engine_idling\",\n",
        "    \"gun_shot\",\n",
        "    \"jackhammer\",\n",
        "    \"siren\",\n",
        "    \"street_music\"\n",
        "]\n",
        "\n",
        "\n",
        "def predict(model, input, target, class_mapping):\n",
        "    model.eval()\n",
        "    device = torch.device(\"cuda\" if torch.cuda.is_available() else \"cpu\")\n",
        "    model.to(device)\n",
        "    with torch.no_grad():\n",
        "        predictions = model(input)\n",
        "        # Tensor (1, 10) -> [ [0.1, 0.01, ..., 0.6] ]\n",
        "        predicted_index = predictions[0].argmax(0)\n",
        "        predicted = class_mapping[predicted_index]\n",
        "        expected = class_mapping[target]\n",
        "    return predicted, expected\n",
        "\n",
        "\n",
        "# load back the model\n",
        "cnn = CNNNetwork()\n",
        "state_dict = torch.load(model_path)\n",
        "cnn.load_state_dict(state_dict)\n",
        "\n",
        "# load urban sound dataset dataset\n",
        "mel_spectrogram = torchaudio.transforms.MelSpectrogram(\n",
        "    sample_rate=SAMPLE_RATE,\n",
        "    n_fft=1024,\n",
        "    hop_length=512,\n",
        "    n_mels=64\n",
        ")\n",
        "\n",
        "usd = UrbanSoundDataset(ANNOTATIONS_FILE,\n",
        "                        AUDIO_DIR,\n",
        "                        mel_spectrogram,\n",
        "                        SAMPLE_RATE,\n",
        "                        NUM_SAMPLES,\n",
        "                        \"cpu\")\n",
        "\n",
        "\n",
        "# get a sample from the urban sound dataset for inference\n",
        "input, target = test_set[0][0], test_set[0][1] # [batch size, num_channels, fr, time]\n",
        "input.unsqueeze_(0)\n",
        "\n",
        "# make an inference\n",
        "predicted, expected = predict(cnn, input, target,\n",
        "                              class_mapping)\n",
        "print(f\"Predicted: '{predicted}', expected: '{expected}'\")"
      ]
    },
    {
      "cell_type": "code",
      "execution_count": null,
      "metadata": {
        "colab": {
          "background_save": true
        },
        "id": "je8yP1IzkXCO"
      },
      "outputs": [],
      "source": [
        "sumRight = 0\n",
        "for i in range(1000):\n",
        "    input, target = train_set[i][0], train_set[i][1]\n",
        "    input.unsqueeze_(0)\n",
        "\n",
        "    # make an inference\n",
        "    predicted, expected = predict(cnn, input, target,\n",
        "                                  class_mapping)\n",
        "    if predicted == expected:\n",
        "        sumRight += 1"
      ]
    },
    {
      "cell_type": "code",
      "execution_count": null,
      "metadata": {
        "colab": {
          "background_save": true
        },
        "id": "nIJf09xIkZ-f",
        "outputId": "f2a4ffa5-d440-4303-a0df-714bccbbacf7"
      },
      "outputs": [
        {
          "data": {
            "text/plain": [
              "0.876"
            ]
          },
          "execution_count": 57,
          "metadata": {},
          "output_type": "execute_result"
        }
      ],
      "source": [
        "sumRight/1000"
      ]
    },
    {
      "cell_type": "code",
      "execution_count": null,
      "metadata": {
        "colab": {
          "background_save": true
        },
        "id": "oAjIrYVykaiW"
      },
      "outputs": [],
      "source": [
        "sumRight = 0\n",
        "for i in range(1000):\n",
        "    input, target = test_set[i][0], test_set[i][1]\n",
        "    input.unsqueeze_(0)\n",
        "\n",
        "    # make an inference\n",
        "    predicted, expected = predict(cnn, input, target,\n",
        "                                  class_mapping)\n",
        "    if predicted == expected:\n",
        "        sumRight += 1"
      ]
    },
    {
      "cell_type": "code",
      "execution_count": null,
      "metadata": {
        "colab": {
          "background_save": true
        },
        "id": "5qg0TuC6keim",
        "outputId": "39b6037d-fb14-43b2-bcd0-1411d9fc1a05"
      },
      "outputs": [
        {
          "data": {
            "text/plain": [
              "0.726"
            ]
          },
          "execution_count": 59,
          "metadata": {},
          "output_type": "execute_result"
        }
      ],
      "source": [
        "sumRight/1000"
      ]
    },
    {
      "cell_type": "code",
      "execution_count": null,
      "metadata": {
        "colab": {
          "background_save": true
        },
        "id": "kHeCsB9okxzW",
        "outputId": "c64919b5-1239-4516-e2d7-4f5de3de11a8"
      },
      "outputs": [
        {
          "data": {
            "image/png": "[encoded data removed]",
            "text/plain": [
              "<Figure size 432x288 with 1 Axes>"
            ]
          },
          "metadata": {},
          "output_type": "display_data"
        }
      ],
      "source": [
        "from matplotlib import pyplot as plt\n",
        "plt.plot(loss_list)\n",
        "plt.show()"
      ]
    },
    {
      "cell_type": "code",
      "execution_count": null,
      "metadata": {
        "colab": {
          "background_save": true
        },
        "id": "RfaQkdCxk072"
      },
      "outputs": [],
      "source": [
        "!cp {model_path} \"/content/drive/My Drive/\""
      ]
    },
    {
      "cell_type": "code",
      "execution_count": null,
      "metadata": {
        "id": "SUGUQXqXk3K2"
      },
      "outputs": [],
      "source": [
        ""
      ]
    }
  ],
  "metadata": {
    "accelerator": "GPU",
    "colab": {
      "collapsed_sections": [],
      "name": "AudioBaselineNetwork_FINAL_trial1.ipynb",
      "provenance": []
    },
    "gpuClass": "standard",
    "kernelspec": {
      "display_name": "Python 3",
      "language": "python",
      "name": "python3"
    },
    "language_info": {
      "codemirror_mode": {
        "name": "ipython",
        "version": 3
      },
      "file_extension": ".py",
      "mimetype": "text/x-python",
      "name": "python",
      "nbconvert_exporter": "python",
      "pygments_lexer": "ipython3",
      "version": "3.8.3"
    }
  },
  "nbformat": 4,
  "nbformat_minor": 0
}